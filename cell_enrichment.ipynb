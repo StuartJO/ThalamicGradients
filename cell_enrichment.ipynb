{
 "cells": [
  {
   "cell_type": "code",
   "execution_count": 36,
   "id": "93d7946f",
   "metadata": {},
   "outputs": [
    {
     "name": "stdout",
     "output_type": "stream",
     "text": [
      "1.5.2\n",
      "1.1.3\n",
      "1.19.2\n"
     ]
    }
   ],
   "source": [
    "import pandas as pd\n",
    "import numpy as np\n",
    "import scipy as sc\n",
    "from scipy.stats import hypergeom\n",
    "\n",
    "import os, glob\n",
    "\n",
    "import matplotlib.pyplot as plt\n",
    "import seaborn as sns\n",
    "\n",
    "print(sc.__version__)\n",
    "print(pd.__version__)\n",
    "print(np.__version__)"
   ]
  },
  {
   "cell_type": "code",
   "execution_count": 37,
   "id": "e1b39fc2",
   "metadata": {},
   "outputs": [],
   "source": [
    "# Some functions for gene enrichment analyses\n",
    "def calculate_enrichment(hit_list, top_genes, full_gene_list):\n",
    "    x = sum(pd.DataFrame(top_genes).isin(hit_list).values) # how many top genes in cell list\n",
    "    n = sum(pd.DataFrame(hit_list).isin(full_gene_list).values)[0] # how many cell genes in full list\n",
    "    N = len(top_genes)  # number of samples\n",
    "    M = len(full_gene_list)  # total number in population\n",
    "\n",
    "    enrichment = safe_div( (x/N) , ((n-x) / (M-N)) )\n",
    "    p = hypergeom.sf(x-1, M, n, N)\n",
    "\n",
    "    return enrichment, p\n",
    "\n",
    "def safe_div(x,y):\n",
    "    if y == 0:\n",
    "        return np.array([0])\n",
    "    return x / y\n",
    "\n",
    "def run_enrichment(classes, gene_lists, positive_genes, negative_genes, background_genes):\n",
    "\n",
    "    enrichment_results = []\n",
    "    num_genes = []\n",
    "    # for each cell class/type\n",
    "    for i in np.arange(len(classes)):\n",
    "        # calculate enrichment in the postively and negatively correlated lists\n",
    "        for g in [positive_genes, negative_genes]:\n",
    "            enrichment_results.append(calculate_enrichment(list(gene_lists[i]), list(g), list(background_genes)))\n",
    "            num_genes.append(len(gene_lists[i]))\n",
    "\n",
    "    # collate into dataframe\n",
    "    results = pd.DataFrame(np.hstack(enrichment_results).T)\n",
    "    results.columns=['enrichment', 'p']\n",
    "    results['class'] = np.repeat(classes, 2)\n",
    "    results['loading'] = ['positive', 'negative']*(len(classes))\n",
    "    results['num_genes'] = np.squeeze(num_genes)\n",
    "    results = results.loc[:,['class','loading','num_genes','enrichment','p']]\n",
    "\n",
    "    return results\n",
    "\n",
    "def run_enrichment_percentile(classes, gene_lists, test_genes, background_genes):\n",
    "\n",
    "    enrichment_results = []\n",
    "    num_genes = []\n",
    "    # for each cell class/type\n",
    "    for i in np.arange(len(classes)):\n",
    "        # calculate enrichment in the postively and negatively correlated lists\n",
    "        for g in test_genes:\n",
    "            enrichment_results.append(calculate_enrichment(list(gene_lists[i]), list(g), list(background_genes)))\n",
    "            num_genes.append(len(gene_lists[i]))\n",
    "\n",
    "    # collate into dataframe\n",
    "    results = pd.DataFrame(np.hstack(enrichment_results).T)\n",
    "    results.columns=['enrichment', 'p']\n",
    "    results['class'] = np.repeat(classes, 10)\n",
    "    results['percentile'] = ['10', '20', '30', '40', '50', '60', '70', '80', '90', '100']*(len(classes))\n",
    "    results['num_genes'] = np.squeeze(num_genes)\n",
    "    results = results.loc[:,['class','percentile','num_genes','enrichment','p']]\n",
    "\n",
    "    return results"
   ]
  },
  {
   "cell_type": "markdown",
   "id": "69934876",
   "metadata": {},
   "source": [
    "# Gene enrichment analyses of PC1 genes\n",
    "Neuronal cell types are distributed non-uniformly in the thalamus ([Jager et al., eLife, 2021](https://elifesciences.org/articles/59272); [Evangelio et al., Front Neuroanat, 2018](https://www.frontiersin.org/articles/10.3389/fnana.2018.00027/full) with distinct cellular subtypes differentiated by graded variations in gene expression both across and within discrete thalamic nuclei ([Philips et al., Nature Neuro, 2019](https://www.nature.com/articles/s41593-019-0483-3); [Li et al., Nature Neuro, 2020](https://www.nature.com/articles/s41586-020-2504-5); [Roy et al., Nature Neuro, 2022](https://www.nature.com/articles/s41593-021-00996-1.pdf)). \n",
    "\n",
    "To investigate potential associations between graded gene expression along PC1 and patterns of cellular diversity in the thalamus, we queried Drop-seq analysis of 89,027 cells in the adult mouse thalamus ([Saunders et al., Cell, 2018](https://www.cell.com/cell/pdf/S0092-8674(18)30955-3.pdf)) and tested if genes with expression that varies along the M-L axis were enriched for homologous thalamic cell type markers.\n",
    "\n",
    "**Methods**  \n",
    "Using the [DropViz](http://dropviz.org/) database, we downloaded lists of differentially expressed (DE) genes for eleven thalamic cell types:  \n",
    "- neurons\n",
    "- ependyma  \n",
    "- astrocyte  \n",
    "- polydendrocyte \n",
    "- endothelial \n",
    "- mural \n",
    "- fibroblast-like\n",
    "- microglia/macrophage\n",
    "- oligodendrocyte \n",
    "\n",
    "where cell types contained more than one subcluster (neuron, n=3; oligodendrocyte, n=2), they were combined into a single 'target' cluster and compared to all other cell types.\n",
    "\n",
    "DE genes were defined using the following parameters:\n",
    "- minimum fold ratio = 3\n",
    "- maximum p-value exponent = -50\n",
    "- minumum log expression in target = 1\n",
    "- maximum mean expression in comparison = 6 (max value)\n",
    "\n",
    "Gene homologs were identified using [Ensembl Biomart](https://www.ensembl.org/biomart) (reference genomes: human GRCh38.p13; mouse GRCm39). Gene lists were filtered to only include:\n",
    "- genes with identified mouse-human homologs\n",
    "- genes with protein expression in the human thalamus (list from [proteinatlas.org](https://www.proteinatlas.org/humanproteome/brain/thalamus)\n",
    "- genes with expression in the top 75% based on aggregated UMI across cell types in the mouse thalamus\n",
    "\n",
    "This ensures that corresponding genes are expressed in both the mouse and human thalamus.\n"
   ]
  },
  {
   "cell_type": "code",
   "execution_count": 38,
   "id": "fc67bd60",
   "metadata": {},
   "outputs": [
    {
     "name": "stdout",
     "output_type": "stream",
     "text": [
      "The total number of background genes (measured in mouse thalamus using Drop-seq with human homologs also expressed in human thalamus):\n",
      "12787\n"
     ]
    }
   ],
   "source": [
    "# load Ensembl human-mouse genes\n",
    "all_homologs = pd.read_csv('data/gene_data/gene_lists/mart_export.txt', delimiter='\\t')\n",
    "\n",
    "# load genes expressed in human thalamus and filter homologs\n",
    "thalamus_proteins = pd.read_csv('data/gene_data/gene_lists/human_thalamus_protein.tsv', delimiter='\\t', low_memory=False)\n",
    "thalamus_proteins = thalamus_proteins['Gene']\n",
    "\n",
    "all_homologs = all_homologs[all_homologs['Gene name'].isin(list(thalamus_proteins))]\n",
    "\n",
    "# mouse genes with human homologs expressed in thalamus\n",
    "mouse_homologs = all_homologs['Mouse gene name'].dropna()\n",
    "\n",
    "# load genes assayed in Saunders et al (DropViz)\n",
    "# this is a list of 'metacells' where each gene has a total count of transcripts for each cell cluster\n",
    "# as many genes are assayed, but not all detected in the thalamus, we remove those with low UMI counts (<25%ile)\n",
    "thalamic_cells = pd.read_csv('data/gene_data/gene_lists/DropViz.metacells.BrainCellAtlas_Saunders_version_2018.04.01.csv')\n",
    "aggregated_UMI = thalamic_cells.loc[:,thalamic_cells.columns.str.contains('TH')].sum(axis=1)\n",
    "thalamic_cells = thalamic_cells.loc[aggregated_UMI > np.percentile(aggregated_UMI, 25)]\n",
    "# get list of genes\n",
    "thalamic_cell_genes = thalamic_cells.iloc[:,0]\n",
    "\n",
    "# filter to include only those with homologs expressed in human thalamus\n",
    "thalamic_cell_genes = list(thalamic_cell_genes[thalamic_cell_genes.isin(mouse_homologs)])\n",
    "print('The total number of background genes (measured in mouse thalamus using Drop-seq with human homologs also expressed in human thalamus):\\n{:}'.format(len(thalamic_cell_genes)))"
   ]
  },
  {
   "cell_type": "markdown",
   "id": "e0272a26",
   "metadata": {},
   "source": [
    "# Over Representation Analysis\n",
    "There are many (!) potential options for testing if one gene set is enriched for another. The simplest is Over-Representation Analysis (ORA) which uses the hypergeometric statistic / Fisher's exact test to test if more genes than expected are shared by both sets with respect to some background gene set. The background set should only include genes that have some chance of being selected in the test set (hence all the filtering above). Including genes that are expressed only in e.g.: muscle in the background set when testing brain-expressed genes will induce an optimistic bias in the [statistics](https://genomebiology.biomedcentral.com/articles/10.1186/s13059-015-0761-7).  \n",
    "\n",
    "ORA requires:  \n",
    "i) list of genes of interest (i.e.: top 100 DE genes from an analysis)  \n",
    "ii) a test set (list of genes associated with a particular function/path/phenotype)  \n",
    "iii) a background set (list of genes for comparison)  "
   ]
  },
  {
   "cell_type": "code",
   "execution_count": 39,
   "id": "839cef1f",
   "metadata": {},
   "outputs": [
    {
     "data": {
      "text/html": [
       "<div>\n",
       "<style scoped>\n",
       "    .dataframe tbody tr th:only-of-type {\n",
       "        vertical-align: middle;\n",
       "    }\n",
       "\n",
       "    .dataframe tbody tr th {\n",
       "        vertical-align: top;\n",
       "    }\n",
       "\n",
       "    .dataframe thead th {\n",
       "        text-align: right;\n",
       "    }\n",
       "</style>\n",
       "<table border=\"1\" class=\"dataframe\">\n",
       "  <thead>\n",
       "    <tr style=\"text-align: right;\">\n",
       "      <th></th>\n",
       "      <th>Region</th>\n",
       "      <th>Class</th>\n",
       "      <th>Cluster</th>\n",
       "    </tr>\n",
       "  </thead>\n",
       "  <tbody>\n",
       "    <tr>\n",
       "      <th>0</th>\n",
       "      <td>Thalamus</td>\n",
       "      <td>Neuron</td>\n",
       "      <td>Neuron_Habenula_Tac2</td>\n",
       "    </tr>\n",
       "    <tr>\n",
       "      <th>1</th>\n",
       "      <td>Thalamus</td>\n",
       "      <td>Ependyma</td>\n",
       "      <td>Ependyma</td>\n",
       "    </tr>\n",
       "    <tr>\n",
       "      <th>2</th>\n",
       "      <td>Thalamus</td>\n",
       "      <td>Astrocyte</td>\n",
       "      <td>Astrocyte_Gja1</td>\n",
       "    </tr>\n",
       "    <tr>\n",
       "      <th>3</th>\n",
       "      <td>Thalamus</td>\n",
       "      <td>Polydendrocyte</td>\n",
       "      <td>Polydendrocyte_Tnr</td>\n",
       "    </tr>\n",
       "    <tr>\n",
       "      <th>4</th>\n",
       "      <td>Thalamus</td>\n",
       "      <td>Neuron</td>\n",
       "      <td>Neuron_Rora</td>\n",
       "    </tr>\n",
       "    <tr>\n",
       "      <th>5</th>\n",
       "      <td>Thalamus</td>\n",
       "      <td>Neuron</td>\n",
       "      <td>Neuron_Gad2-Ahi1</td>\n",
       "    </tr>\n",
       "    <tr>\n",
       "      <th>6</th>\n",
       "      <td>Thalamus</td>\n",
       "      <td>Endothelial</td>\n",
       "      <td>Endothelial_Flt1</td>\n",
       "    </tr>\n",
       "    <tr>\n",
       "      <th>7</th>\n",
       "      <td>Thalamus</td>\n",
       "      <td>Mural</td>\n",
       "      <td>Mural_Rgs5Acta2</td>\n",
       "    </tr>\n",
       "    <tr>\n",
       "      <th>8</th>\n",
       "      <td>Thalamus</td>\n",
       "      <td>Fibroblast-Like</td>\n",
       "      <td>Fibroblast-Like_Dcn</td>\n",
       "    </tr>\n",
       "    <tr>\n",
       "      <th>9</th>\n",
       "      <td>Thalamus</td>\n",
       "      <td>Microglia_Macrophage</td>\n",
       "      <td>Microglia_Macrophage_C1qb</td>\n",
       "    </tr>\n",
       "    <tr>\n",
       "      <th>10</th>\n",
       "      <td>Thalamus</td>\n",
       "      <td>Oligodendrocyte</td>\n",
       "      <td>Oligodendrocyte_Tfr</td>\n",
       "    </tr>\n",
       "    <tr>\n",
       "      <th>11</th>\n",
       "      <td>Thalamus</td>\n",
       "      <td>Oligodendrocyte</td>\n",
       "      <td>Oligodendrocyte_Mbp</td>\n",
       "    </tr>\n",
       "    <tr>\n",
       "      <th>12</th>\n",
       "      <td>Thalamus</td>\n",
       "      <td>Oligodendrocyte</td>\n",
       "      <td>Oligodendrocyte_ALL</td>\n",
       "    </tr>\n",
       "    <tr>\n",
       "      <th>13</th>\n",
       "      <td>Thalamus</td>\n",
       "      <td>Neuron</td>\n",
       "      <td>Neuron_ALL</td>\n",
       "    </tr>\n",
       "  </tbody>\n",
       "</table>\n",
       "</div>"
      ],
      "text/plain": [
       "      Region                 Class                    Cluster\n",
       "0   Thalamus                Neuron       Neuron_Habenula_Tac2\n",
       "1   Thalamus              Ependyma                   Ependyma\n",
       "2   Thalamus             Astrocyte             Astrocyte_Gja1\n",
       "3   Thalamus        Polydendrocyte         Polydendrocyte_Tnr\n",
       "4   Thalamus                Neuron                Neuron_Rora\n",
       "5   Thalamus                Neuron           Neuron_Gad2-Ahi1\n",
       "6   Thalamus           Endothelial           Endothelial_Flt1\n",
       "7   Thalamus                 Mural            Mural_Rgs5Acta2\n",
       "8   Thalamus       Fibroblast-Like        Fibroblast-Like_Dcn\n",
       "9   Thalamus  Microglia_Macrophage  Microglia_Macrophage_C1qb\n",
       "10  Thalamus       Oligodendrocyte        Oligodendrocyte_Tfr\n",
       "11  Thalamus       Oligodendrocyte        Oligodendrocyte_Mbp\n",
       "12  Thalamus       Oligodendrocyte        Oligodendrocyte_ALL\n",
       "13  Thalamus                Neuron                 Neuron_ALL"
      ]
     },
     "execution_count": 39,
     "metadata": {},
     "output_type": "execute_result"
    }
   ],
   "source": [
    "# get cell type data\n",
    "cell_data = pd.read_csv('data/gene_data/gene_lists/thalamus_cell_cluster_types.csv', delimiter='\\t')\n",
    "cell_data"
   ]
  },
  {
   "cell_type": "code",
   "execution_count": 40,
   "id": "e5b87450",
   "metadata": {},
   "outputs": [
    {
     "name": "stdout",
     "output_type": "stream",
     "text": [
      "['Ependyma', 'Astrocyte', 'Polydendrocyte', 'Endothelial', 'Mural', 'Fibroblast-Like', 'Microglia/Macrophage', 'Oligodendrocyte', 'Neuron']\n",
      "Total number of DE genes per class after filtering\n",
      "\n",
      "Ependyma: 626 genes\n",
      "Astrocyte: 406 genes\n",
      "Polydendrocyte: 221 genes\n",
      "Endothelial: 775 genes\n",
      "Mural: 512 genes\n",
      "Fibroblast-Like: 265 genes\n",
      "Microglia/Macrophage: 251 genes\n",
      "Oligodendrocyte: 342 genes\n",
      "Neuron: 1088 genes\n"
     ]
    }
   ],
   "source": [
    "# load differentially expressed gene lists from DropViz for each cell type\n",
    "gene_lists = [list(pd.read_csv('data/gene_data/gene_lists/TH_' + cluster + '.csv')['gene']) for cluster in cell_data['Cluster']]\n",
    "\n",
    "# filter out genes not included in the background set\n",
    "filtered_gene_lists = [list(set(cluster_list) & set(thalamic_cell_genes)) for cluster_list in gene_lists]\n",
    "\n",
    "# add to dataframe\n",
    "cell_data['genes'] = filtered_gene_lists\n",
    "\n",
    "#drop neuronal and oligodendrocyte subclusters for now\n",
    "celltype_data = cell_data[~cell_data['Cluster'].isin(['Neuron_Habenula_Tac2', 'Neuron_Rora', 'Neuron_Gad2-Ahi1', 'Oligodendrocyte_Mbp', 'Oligodendrocyte_Tfr' ])]\n",
    "\n",
    "# concatenate gene lists for each cell classes\n",
    "cell_class = list(celltype_data.Class.unique())\n",
    "cell_class_lists = [list(np.unique(np.concatenate(celltype_data[celltype_data['Class'] == cell]['genes'].values))) for cell in cell_class]\n",
    "\n",
    "cell_class = [cell_class_.replace('Microglia_Macrophage','Microglia/Macrophage') for cell_class_ in cell_class]\n",
    "print(cell_class)\n",
    "\n",
    "print('Total number of DE genes per class after filtering\\n')\n",
    "for n,i in enumerate(cell_class):\n",
    "    print('{:}: {:} genes'.format(i, len(cell_class_lists[n])))"
   ]
  },
  {
   "cell_type": "markdown",
   "id": "f00db877",
   "metadata": {},
   "source": [
    "The gene lists above are the gene sets that we are testing for enrichment in our PC-related genes. \n",
    "To collate the genes of interest, we:  \n",
    "i) load the top/bottom 100 genes  \n",
    "ii) identify the corresponding mouse homologs and  \n",
    "iii) filter to remove any not included in the background set"
   ]
  },
  {
   "cell_type": "code",
   "execution_count": 41,
   "id": "3917d246",
   "metadata": {},
   "outputs": [
    {
     "name": "stdout",
     "output_type": "stream",
     "text": [
      "From top 100 positive genes\n",
      "54 corresponding mouse genes\n",
      "with 50 in background set\n",
      "\n",
      "From top 100 negative genes\n",
      "60 corresponding mouse genes\n",
      "with 56 in background set\n"
     ]
    }
   ],
   "source": [
    "OUTNAME='PC3'\n",
    "\n",
    "# PC+ and PC- genes - change for the updated list of 100\n",
    "# load top 100\n",
    "positive_genes = pd.read_csv('data/processed/HumanMostPositiveSpinTested_'+ OUTNAME + '.csv', header=None)[0].values\n",
    "# identify homologs\n",
    "positive_homologs = all_homologs[all_homologs['Gene name'].isin(list(positive_genes))]['Mouse gene name'].dropna()\n",
    "# remove any not in background\n",
    "filtered_positive_homologs = list(set(positive_homologs) & set(thalamic_cell_genes))\n",
    "\n",
    "print('From top {:} positive genes'.format(len(positive_genes)))\n",
    "print('{:} corresponding mouse genes'.format(len(positive_homologs)))\n",
    "print('with {:} in background set'.format(len(filtered_positive_homologs)))\n",
    "print('')\n",
    "\n",
    "# as above but for bottom 100\n",
    "negative_genes = pd.read_csv('data/processed/HumanMostNegativeSpinTested_'+ OUTNAME + '.csv', header=None)[0].values\n",
    "negative_homologs = all_homologs[all_homologs['Gene name'].isin(list(negative_genes))]['Mouse gene name'].dropna()\n",
    "filtered_negative_homologs = list(set(negative_homologs) & set(thalamic_cell_genes))\n",
    "\n",
    "print('From top {:} negative genes'.format(len(negative_genes)))\n",
    "print('{:} corresponding mouse genes'.format(len(negative_homologs)))\n",
    "print('with {:} in background set'.format(len(filtered_negative_homologs)))"
   ]
  },
  {
   "cell_type": "markdown",
   "id": "a22a10ba",
   "metadata": {},
   "source": [
    "## Calculate cell enrichment for each gene list\n",
    "Enrichment is calculated based on the hypergeometric statistic. Uncorrected p-values are shown - consider FDR-correction.  \n",
    "\n",
    "Results table shows:   \n",
    "**class** - cell type  \n",
    "**loading** - positive = top 100 genes, negative = bottom 100 genes  \n",
    "**num_genes** - number of genes in the test set  \n",
    "**enrichment ratio** - enrichment ratio in gene list vs background  \n",
    "**p, p<0.01, etc** - uncorrected p-values  "
   ]
  },
  {
   "cell_type": "code",
   "execution_count": 42,
   "id": "357bbd5c",
   "metadata": {},
   "outputs": [],
   "source": [
    "enrichment = run_enrichment(cell_class, cell_class_lists, filtered_positive_homologs, filtered_negative_homologs, thalamic_cell_genes)\n",
    "enrichment['p<0.01'] = enrichment['p']<0.01\n",
    "enrichment['p<0.001'] = enrichment['p']<0.001\n",
    "enrichment['p<0.0001'] = enrichment['p']<0.0001\n",
    "\n",
    "enrichment\n",
    "\n",
    "enrichment.to_csv('data/processed/cell_enrichment_' + OUTNAME +'.csv')"
   ]
  },
  {
   "cell_type": "code",
   "execution_count": 43,
   "id": "4f39b2b0",
   "metadata": {},
   "outputs": [
    {
     "data": {
      "image/png": "[encoded data removed]",
      "text/plain": [
       "<Figure size 1080x504 with 2 Axes>"
      ]
     },
     "metadata": {
      "needs_background": "light"
     },
     "output_type": "display_data"
    }
   ],
   "source": [
    "# plot\n",
    "# positive and negative cell enrichments\n",
    "positive_enrichment = enrichment.loc[enrichment.loading=='positive']\n",
    "negative_enrichment = enrichment.loc[enrichment.loading=='negative']\n",
    "\n",
    "# plot enrichments\n",
    "fig, (ax1, ax2) = plt.subplots(1,2, figsize=(15,7), sharey=False, sharex=True)\n",
    "\n",
    "sns.barplot(y='class', x='enrichment', hue='class', palette='rocket', data=positive_enrichment,\n",
    "            dodge=False, ax=ax1, orient='h')\n",
    "\n",
    "sns.barplot(y='class', x='enrichment', hue='class', palette='mako', data=negative_enrichment,\n",
    "            dodge=False, ax=ax2, orient='h')\n",
    "\n",
    "for ax in [ax1,ax2]:\n",
    "    ax.legend().set_visible(False)\n",
    "    ax.tick_params(axis='both', which='major', labelsize=20)\n",
    "    ax.set_ylabel('')\n",
    "    ax.set_xlabel('Enrichment ratio', fontsize=20)\n",
    "ax1.set_title('PC1+ genes', fontsize=20)\n",
    "ax2.set_title('PC1- genes', fontsize=20)\n",
    "\n",
    "plt.tight_layout()\n"
   ]
  },
  {
   "cell_type": "markdown",
   "id": "791b1611",
   "metadata": {},
   "source": [
    "Significant enrichment for oligodendroctes (and polydendrocytes ~oligo precursors) cells in positive (lateral) genes.  \n",
    "\n",
    "Significant enrichment for glial and ependymal cells in negative (medial) genes (makes sense given position and proximity to ventricles) - aso derived from radial glia which may explain why we see enrichment in fetal period.\n",
    "\n",
    "Neurons are enriched for both positive and negative types. See below for an analysis of neuronal subtypes."
   ]
  },
  {
   "cell_type": "code",
   "execution_count": 44,
   "id": "2eaca4c3",
   "metadata": {},
   "outputs": [
    {
     "data": {
      "text/html": [
       "<div>\n",
       "<style scoped>\n",
       "    .dataframe tbody tr th:only-of-type {\n",
       "        vertical-align: middle;\n",
       "    }\n",
       "\n",
       "    .dataframe tbody tr th {\n",
       "        vertical-align: top;\n",
       "    }\n",
       "\n",
       "    .dataframe thead th {\n",
       "        text-align: right;\n",
       "    }\n",
       "</style>\n",
       "<table border=\"1\" class=\"dataframe\">\n",
       "  <thead>\n",
       "    <tr style=\"text-align: right;\">\n",
       "      <th></th>\n",
       "      <th>Region</th>\n",
       "      <th>Class</th>\n",
       "      <th>Cluster</th>\n",
       "      <th>genes</th>\n",
       "    </tr>\n",
       "  </thead>\n",
       "  <tbody>\n",
       "    <tr>\n",
       "      <th>0</th>\n",
       "      <td>Thalamus</td>\n",
       "      <td>Neuron</td>\n",
       "      <td>Neuron_Habenula_Tac2</td>\n",
       "      <td>[Pde2a, Cbln4, Samd14, Rgs6, Alcam, Cpne4, Rbm...</td>\n",
       "    </tr>\n",
       "    <tr>\n",
       "      <th>4</th>\n",
       "      <td>Thalamus</td>\n",
       "      <td>Neuron</td>\n",
       "      <td>Neuron_Rora</td>\n",
       "      <td>[Ogfrl1, Fbxw7, Adam22, Slc4a3, Mapk8ip2, Zfhx...</td>\n",
       "    </tr>\n",
       "    <tr>\n",
       "      <th>5</th>\n",
       "      <td>Thalamus</td>\n",
       "      <td>Neuron</td>\n",
       "      <td>Neuron_Gad2-Ahi1</td>\n",
       "      <td>[Ube2ql1, Basp1, Syn2, Nap1l5, Ifitm10, Rgs6, ...</td>\n",
       "    </tr>\n",
       "  </tbody>\n",
       "</table>\n",
       "</div>"
      ],
      "text/plain": [
       "     Region   Class               Cluster  \\\n",
       "0  Thalamus  Neuron  Neuron_Habenula_Tac2   \n",
       "4  Thalamus  Neuron           Neuron_Rora   \n",
       "5  Thalamus  Neuron      Neuron_Gad2-Ahi1   \n",
       "\n",
       "                                               genes  \n",
       "0  [Pde2a, Cbln4, Samd14, Rgs6, Alcam, Cpne4, Rbm...  \n",
       "4  [Ogfrl1, Fbxw7, Adam22, Slc4a3, Mapk8ip2, Zfhx...  \n",
       "5  [Ube2ql1, Basp1, Syn2, Nap1l5, Ifitm10, Rgs6, ...  "
      ]
     },
     "execution_count": 44,
     "metadata": {},
     "output_type": "execute_result"
    }
   ],
   "source": [
    "# repeat the enrichment analysis focusing on neuronal subtypes\n",
    "neuron_cell_data = cell_data[cell_data['Class'] == 'Neuron']\n",
    "# drop whole neuron group\n",
    "neuron_cell_data = neuron_cell_data.loc[~(neuron_cell_data['Cluster']=='Neuron_ALL')]\n",
    "neuron_cell_data"
   ]
  },
  {
   "cell_type": "code",
   "execution_count": 45,
   "id": "0d3c6238",
   "metadata": {},
   "outputs": [],
   "source": [
    "# subtype enrichment\n",
    "\n",
    "#neuron_clusters_orig = list(neuron_cell_data['Cluster'])\n",
    "\n",
    "#neuron_cluster_names = ['Cluster 1', 'Cluster 2', 'Cluster 3']\n",
    "neuron_cluster_names = ['Habenula', 'Rora', 'Gad2/Ahi1']\n",
    "\n",
    "neuron_enrichment = run_enrichment(neuron_cluster_names, list(neuron_cell_data['genes']), filtered_positive_homologs, filtered_negative_homologs, thalamic_cell_genes)\n",
    "neuron_enrichment['p<0.01'] = neuron_enrichment['p']<0.01\n",
    "neuron_enrichment['p<0.001'] = neuron_enrichment['p']<0.001\n",
    "neuron_enrichment['p<0.0001'] = neuron_enrichment['p']<0.0001\n",
    "neuron_enrichment\n",
    "\n",
    "neuron_enrichment.to_csv('data/processed/neuron_enrichment_' + OUTNAME +'.csv')"
   ]
  },
  {
   "cell_type": "code",
   "execution_count": 46,
   "id": "1d715eac",
   "metadata": {},
   "outputs": [
    {
     "data": {
      "image/png": "[encoded data removed]",
      "text/plain": [
       "<Figure size 1080x504 with 2 Axes>"
      ]
     },
     "metadata": {
      "needs_background": "light"
     },
     "output_type": "display_data"
    }
   ],
   "source": [
    "# positive and negative cell enrichments\n",
    "positive_neuron_enrichment = neuron_enrichment.loc[neuron_enrichment.loading=='positive']\n",
    "negative_neuron_enrichment = neuron_enrichment.loc[neuron_enrichment.loading=='negative']\n",
    "\n",
    "# plot enrichments\n",
    "fig, (ax1, ax2) = plt.subplots(1,2, figsize=(15,7), sharey=False, sharex=True)\n",
    "sns.barplot(y='class', x='enrichment', hue='class', palette='rocket', data=positive_neuron_enrichment,\n",
    "            dodge=False, ax=ax1, orient='h')\n",
    "\n",
    "sns.barplot(y='class', x='enrichment', hue='class', palette='mako', data=negative_neuron_enrichment,\n",
    "            dodge=False, ax=ax2, orient='h')\n",
    "\n",
    "for ax in [ax1,ax2]:\n",
    "    ax.legend().set_visible(False)\n",
    "    ax.tick_params(axis='both', which='major', labelsize=20)\n",
    "    ax.set_ylabel('')\n",
    "    ax.set_xlabel('enrichment ratio', fontsize=20)\n",
    "ax1.set_title(OUTNAME+'+ genes', fontsize=20)\n",
    "ax2.set_title(OUTNAME+'- genes', fontsize=20)\n",
    "\n",
    "plt.tight_layout()"
   ]
  },
  {
   "cell_type": "markdown",
   "id": "f25369e8",
   "metadata": {},
   "source": [
    "Clear differentiation in neuronal cell types across M-L axis  \n",
    "\n",
    "Based on Saunders et al:  \n",
    "*Neuron_Rora* is a cluster of ~10 subtypes of excitatory neurons expressing SLC17a6  \n",
    "*Neuron_Gad2-Ahi1* is a cluster of ~11 subtypes of neurons most expressing GAD1 and GAD2 (GABAergic/inhibitory)  \n",
    "*Neuron_Habenula_Tac2* are cholinergic and glutamatergic neurons in the habenula (dorsomedial, posterior thalamus) "
   ]
  },
  {
   "cell_type": "code",
   "execution_count": 47,
   "id": "277ed144",
   "metadata": {},
   "outputs": [
    {
     "name": "stdout",
     "output_type": "stream",
     "text": [
      "\n",
      "genes shared between postive top 100 and Neuron_Habenula_Tac2\n",
      "['Nol4', 'Car10', 'Gpm6a', 'Neurod2', 'Hap1']\n",
      "\n",
      "genes shared between postive top 100 and Neuron_Rora\n",
      "['St6gal2', 'Dclk2', 'Nol4', 'Sez6', 'Lrfn5', 'Celsr2', 'L1cam', 'Svop', 'Nell1']\n",
      "\n",
      "genes shared between postive top 100 and Neuron_Gad2-Ahi1\n",
      "['Gpm6a', 'Hap1', 'Rab27b']\n"
     ]
    }
   ],
   "source": [
    "for n, i in enumerate(list(neuron_cell_data['Cluster'])):\n",
    "    print('')\n",
    "    print('genes shared between postive top 100 and {:}'.format(i))\n",
    "    print(list(set(filtered_positive_homologs) & set(list(neuron_cell_data['genes'])[n])))\n",
    "    save_name=format(i)\n",
    "    genelist=pd.DataFrame({'Gene' : list(set(filtered_positive_homologs) & set(list(neuron_cell_data['genes'])[n]))})\n",
    "    genelist.to_csv('data/processed/Positive'+save_name+'Genes_' + OUTNAME +'.csv')"
   ]
  },
  {
   "cell_type": "code",
   "execution_count": 48,
   "id": "8686b7ad",
   "metadata": {},
   "outputs": [
    {
     "name": "stdout",
     "output_type": "stream",
     "text": [
      "\n",
      "genes shared between negative bottom 100 and Neuron_Habenula_Tac2\n",
      "['Cbln2', 'Dner']\n",
      "\n",
      "genes shared between negative bottom 100 and Neuron_Rora\n",
      "['D630045J12Rik', 'Chga', 'Syngr3', 'Chn1', 'C1qtnf4', 'Chrna4', 'Kif5c', 'Ywhah']\n",
      "\n",
      "genes shared between negative bottom 100 and Neuron_Gad2-Ahi1\n",
      "['Cbln2']\n"
     ]
    }
   ],
   "source": [
    "for n, i in enumerate(list(neuron_cell_data['Cluster'])):\n",
    "    print('')\n",
    "    print('genes shared between negative bottom 100 and {:}'.format(i))\n",
    "    print(list(set(filtered_negative_homologs) & set(list(neuron_cell_data['genes'])[n])))\n",
    "    save_name=format(i)\n",
    "    genelist=pd.DataFrame({'Gene' : list(set(filtered_negative_homologs) & set(list(neuron_cell_data['genes'])[n]))})\n",
    "    genelist.to_csv('data/processed/Negative'+save_name+'Genes_' + OUTNAME +'.csv')"
   ]
  },
  {
   "cell_type": "markdown",
   "id": "9807ad79",
   "metadata": {},
   "source": [
    "DLX1 is an GABAergic interneuron marker; GNG4 shows enhanced inhibitory neuron expression; others are expressed by both excit and inhib neurons: Cnr1; Gda; Scn3a"
   ]
  },
  {
   "cell_type": "markdown",
   "id": "55d35cec",
   "metadata": {},
   "source": [
    "## Subcluster analysis  \n",
    "Based on pattern of enrichment above, a set of genes expressed by distinct neuronal clusters are differentially expressed along the primary axis. In Saunders et al, the authors make a point that the subclusters all lie near each other in a low-dim space and therefore display similar gene expression profiles compred to other cell types. This also suggests that cell types near the 'border' of adjacent clusters themselves have similar gene expression to each other - this matches observations from Philips et al that cells at the borders of thalamuc nuclei share many properties and are not distinct populations. This suggests that there may be a graded enrichment of genes across subclusters with certain cell types sharing more enrich genes than others, rather than forming discrete clusters with or without enrichment. \n",
    "\n",
    "To test, we repeat the enrichment analysis but focusing on neuronal cell subclusters (n=25). Enrichment was defined using same criteria as above but within subclusters. Only neurons outside of subtype were included in reference set i.e.: subcluster 1-1 vs 2-1+2-2+...+3-1+3-2+...+3-11   but not 1-2, 1-3, 1-4.  \n",
    "\n",
    "Background set was defined as all genes expressed by neurons (http://dropviz.org/?_state_id_=ea878c502fb5eb78) min fold ratio 1, no p-value limit, min mean amount = 1"
   ]
  },
  {
   "cell_type": "code",
   "execution_count": 49,
   "id": "b62961c2",
   "metadata": {},
   "outputs": [
    {
     "name": "stdout",
     "output_type": "stream",
     "text": [
      "['Habenula-1', 'Habenula-2', 'Habenula-3', 'Habenula-4', 'Rora-1', 'Rora-10', 'Rora-11', 'Rora-2', 'Rora-3', 'Rora-4', 'Rora-5', 'Rora-6', 'Rora-7', 'Rora-8', 'Rora-9', 'Gad2/Ahi1-1', 'Gad2/Ahi1-10', 'Gad2/Ahi1-11', 'Gad2/Ahi1-2', 'Gad2/Ahi1-3', 'Gad2/Ahi1-4', 'Gad2/Ahi1-5', 'Gad2/Ahi1-6', 'Gad2/Ahi1-7', 'Gad2/Ahi1-8', 'Gad2/Ahi1-9']\n"
     ]
    }
   ],
   "source": [
    "# gene lists for each neuronal subcluster\n",
    "cluster_lists =  sorted(glob.glob('data/gene_data/gene_lists/subclusters/*csv'))\n",
    "#print(cluster_lists)\n",
    "# name for each cluster\n",
    "cluster_names = [('Cluster '+ s.split('\\\\')[-1].split('.')[0]) for s in cluster_lists]\n",
    "\n",
    "cluster_names = [cluster_name.replace('Cluster 1','Habenula').replace('Cluster 2','Rora').replace('Cluster 3','Gad2/Ahi1') for cluster_name in cluster_names]\n",
    "print(cluster_names)\n",
    "# get cluster genes\n",
    "cluster_genes = [list(pd.read_csv(s)['gene']) for s in cluster_lists]\n",
    "\n",
    "# filter out genes not included in thalamic background\n",
    "filtered_cluster_genes = [list(set(s) & set(thalamic_cell_genes)) for s in cluster_genes]\n",
    "\n",
    "# all genes expressed by neuron class\n",
    "neuron_genes = pd.read_csv('data/gene_data/gene_lists/all-neuronal-genes.csv')['gene']\n",
    "# filter out any not in thalamic background\n",
    "neuron_genes = neuron_genes[neuron_genes.isin(thalamic_cell_genes)]\n"
   ]
  },
  {
   "cell_type": "code",
   "execution_count": 50,
   "id": "0270c1e2",
   "metadata": {},
   "outputs": [],
   "source": [
    "subcluster_enrichment = run_enrichment(cluster_names, cluster_genes, filtered_positive_homologs, filtered_negative_homologs, neuron_genes)\n",
    "subcluster_enrichment.rename(columns={\"class\": \"subcluster\"}, inplace=True)\n",
    "subcluster_enrichment\n",
    "\n",
    "subcluster_enrichment.to_csv('data/processed/subcluster_enrichment_' + OUTNAME +'.csv')"
   ]
  },
  {
   "cell_type": "code",
   "execution_count": 51,
   "id": "e570926d",
   "metadata": {},
   "outputs": [
    {
     "name": "stdout",
     "output_type": "stream",
     "text": [
      "      subcluster   loading  num_genes  enrichment         p\n",
      "0     Habenula-1  negative        133    0.000000  1.000000\n",
      "1     Habenula-2  negative        214    3.685345  0.051414\n",
      "2     Habenula-3  negative        246    1.149194  0.587248\n",
      "3     Habenula-4  negative         22    0.000000  1.000000\n",
      "4         Rora-1  negative        147    0.000000  1.000000\n",
      "5        Rora-10  negative        235    0.395833  0.924298\n",
      "6        Rora-11  negative        236    0.398045  0.923185\n",
      "7         Rora-2  negative        141    0.000000  1.000000\n",
      "8         Rora-3  negative        150    0.641892  0.794636\n",
      "9         Rora-4  negative        146    0.653670  0.788664\n",
      "10        Rora-5  negative         39    0.000000  1.000000\n",
      "11        Rora-6  negative        163    1.177686  0.512349\n",
      "12        Rora-7  negative         79    0.000000  1.000000\n",
      "13        Rora-8  negative        199    0.453822  0.894211\n",
      "14        Rora-9  negative        196    0.000000  1.000000\n",
      "15   Gad2/Ahi1-1  negative        101    1.583333  0.475203\n",
      "16  Gad2/Ahi1-10  negative         73    0.000000  1.000000\n",
      "17  Gad2/Ahi1-11  negative         27    0.000000  1.000000\n",
      "18   Gad2/Ahi1-2  negative        120    1.515957  0.489796\n",
      "19   Gad2/Ahi1-3  negative        128    1.370192  0.524558\n",
      "20   Gad2/Ahi1-4  negative        102    0.000000  1.000000\n",
      "21   Gad2/Ahi1-5  negative        149    1.370192  0.524558\n",
      "22   Gad2/Ahi1-6  negative         85    0.000000  1.000000\n",
      "23   Gad2/Ahi1-7  negative        173    0.000000  1.000000\n",
      "24   Gad2/Ahi1-8  negative        132    2.794118  0.166226\n",
      "25   Gad2/Ahi1-9  negative         53    2.159091  0.378632\n"
     ]
    }
   ],
   "source": [
    "# split into positive and negative lists\n",
    "positive_subcluster_enrichment = subcluster_enrichment.loc[subcluster_enrichment.loading=='positive'].copy().reset_index(drop=True)\n",
    "negative_subcluster_enrichment = subcluster_enrichment.loc[subcluster_enrichment.loading=='negative'].copy().reset_index(drop=True)\n",
    "print(negative_subcluster_enrichment)\n",
    "\n",
    "#print(positive_subcluster_enrichment)\n",
    "# sort by total amount of enrichment\n",
    "positive_subcluster_enrichment['total_enrichment'] = positive_subcluster_enrichment['enrichment'] - negative_subcluster_enrichment['enrichment']\n",
    "negative_subcluster_enrichment['total_enrichment'] = positive_subcluster_enrichment['enrichment'] - negative_subcluster_enrichment['enrichment'] \n",
    "\n",
    "positive_subcluster_enrichment = positive_subcluster_enrichment.sort_values(by='total_enrichment')\n",
    "negative_subcluster_enrichment = negative_subcluster_enrichment.sort_values(by='total_enrichment')\n",
    "\n",
    "# negate negative enrichment to plot\n",
    "negative_subcluster_enrichment['negative_enrichment'] = negative_subcluster_enrichment['enrichment']*-1\n"
   ]
  },
  {
   "cell_type": "code",
   "execution_count": 52,
   "id": "29ae8f98",
   "metadata": {},
   "outputs": [
    {
     "data": {
      "image/png": "[encoded data removed]",
      "text/plain": [
       "<Figure size 576x504 with 1 Axes>"
      ]
     },
     "metadata": {
      "needs_background": "light"
     },
     "output_type": "display_data"
    }
   ],
   "source": [
    "# plot enrichments\n",
    "fig, ax1 = plt.subplots(1,1, figsize=(8,7), sharey=False, sharex=True)\n",
    "\n",
    "\n",
    "sns.barplot(y='subcluster', x='negative_enrichment', hue='subcluster', palette='mako_r', data=negative_subcluster_enrichment,\n",
    "            dodge=False, ax=ax1, orient='h')\n",
    "sns.barplot(y='subcluster', x='enrichment', hue='subcluster', palette='rocket', data=positive_subcluster_enrichment,\n",
    "            dodge=False, ax=ax1, orient='h')\n",
    "\n",
    "\n",
    "for ax in [ax1]:\n",
    "    ax.legend().set_visible(False)\n",
    "    ax.tick_params(axis='both', which='major', labelsize=20)\n",
    "    ax.set_ylabel('Neuronal subclusters', fontsize=20)\n",
    "    ax.set_xlabel('Enrichment ratio', fontsize=20)\n",
    "ax1.set_title(OUTNAME+'-                                                         '+OUTNAME+'+', fontsize=20)\n",
    "\n",
    "plt.tight_layout()"
   ]
  },
  {
   "cell_type": "markdown",
   "id": "e0d1b1fe",
   "metadata": {},
   "source": [
    "This might need a bit more exploration. In particular identifying the genes that are shared by the cell types at the top and bottom of the gradient. \n",
    "\n",
    "I think next step would be to map the expression of several known inhib and exhib markers and correlation to the M-L gradient."
   ]
  }
 ],
 "metadata": {
  "interpreter": {
   "hash": "53774f5133ed6ab02ac663994f105d56f6d51275b70494c8860596cd1e600afd"
  },
  "kernelspec": {
   "display_name": "Python 3.8.5 ('base')",
   "language": "python",
   "name": "python3"
  },
  "language_info": {
   "codemirror_mode": {
    "name": "ipython",
    "version": 3
   },
   "file_extension": ".py",
   "mimetype": "text/x-python",
   "name": "python",
   "nbconvert_exporter": "python",
   "pygments_lexer": "ipython3",
   "version": "3.8.5"
  }
 },
 "nbformat": 4,
 "nbformat_minor": 5
}
